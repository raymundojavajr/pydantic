{
 "cells": [
  {
   "cell_type": "markdown",
   "metadata": {},
   "source": [
    "LT1 - Individual Project"
   ]
  },
  {
   "cell_type": "markdown",
   "metadata": {},
   "source": [
    "# Pydantic: A Introduction for Data Validation (Guide Structure -- to be remove)\n",
    "\n",
    "## 1. Introduction to Pydantic\n",
    "- **Overview:**  \n",
    "  Briefly introduce what Pydantic is and why it's useful.\n",
    "- **Key Benefits:**  \n",
    "  - Automatic Data Validation  \n",
    "  - Type Conversion  \n",
    "  - Informative Error Messages  \n",
    "  - Improved Code Readability\n",
    "\n",
    "## 2. Understanding Data Validation\n",
    "- **What is Data Validation?**  \n",
    "  Explain the process of checking data against rules (format, range, uniqueness).\n",
    "- **Why It Matters:**  \n",
    "  Discuss how validation prevents errors, ensures compliance, and boosts application reliability.\n",
    "- **Techniques:**  \n",
    "  - Field-Level Validation  \n",
    "  - Cross-Field Validation\n",
    "- **Approaches:**  \n",
    "  - Real-Time vs. Batch Validation\n",
    "- **Tools for Validation:**  \n",
    "  Briefly mention alternatives like Great Expectations and Talend Data Quality, then highlight Pydantic.\n",
    "\n",
    "## 3. A Basic Pydantic Example\n",
    "- **Defining a Simple Model:**  \n",
    "  Present a simple code example (e.g., a `Person` model with `name` and `age`).\n",
    "- **Valid Data Example:**  \n",
    "  Show how creating an instance with valid data works.\n",
    "- **Invalid Data Example:**  \n",
    "  Demonstrate error handling when invalid data is provided.\n",
    "\n",
    "## 4. Interactive Experimentation\n",
    "- **Hands-On Exercise:**  \n",
    "  Invite learners to modify the model (e.g., add new fields or change data types) and observe the outcomes.\n",
    "- **Discussion Prompts:**  \n",
    "  - What errors did you see when providing incorrect data?\n",
    "  - How does automatic type conversion help in real-world scenarios?\n",
    "\n",
    "## 5. Summary and Q&A\n",
    "- **Key Takeaways:**  \n",
    "  Summarize the importance of data validation and the role of Pydantic.\n",
    "- **Next Steps:**  \n",
    "  Briefly mention that later sections will cover testing and more advanced topics.\n",
    "- **Open Q&A:**  \n",
    "  Encourage questions and discussion from the audience.\n"
   ]
  },
  {
   "cell_type": "markdown",
   "metadata": {},
   "source": [
    "---"
   ]
  },
  {
   "cell_type": "markdown",
   "metadata": {
    "vscode": {
     "languageId": "plaintext"
    }
   },
   "source": [
    "### 1. Introduction to Pydantic\n",
    "\n",
    "Pydantic is a powerful Python library that uses Python type hints to define clear data models and automatically validate data. It helps ensure that your code works with data in the expected format, reducing bugs and making your code more maintainable.\n",
    "\n",
    "**Key Benefits:**\n",
    "- **Automatic Data Validation:** Checks if the data conforms to the expected types.\n",
    "- **Type Conversion:** Converts data into the correct type (e.g., turning `\"30\"` into `30`).\n",
    "- **Informative Error Messages:** Provides detailed messages when data is invalid.\n",
    "- **Improved Readability:** Uses Python type hints, making your code self-documenting.\n",
    "\n",
    "In the next cells, we will see how to import Pydantic, define a simple data model, and observe both valid and invalid data examples."
   ]
  },
  {
   "cell_type": "code",
   "execution_count": 69,
   "metadata": {},
   "outputs": [],
   "source": [
    "# Importing the necessary components from Pydantic:\n",
    "from pydantic import BaseModel, ValidationError"
   ]
  },
  {
   "cell_type": "markdown",
   "metadata": {},
   "source": [
    "- BaseModel: The core class from Pydantic. When you create a data model, you inherit from BaseModel. It provides automatic validation and type conversion.\n",
    "\n",
    " - ValidationError: This exception is raised when the data provided does not match the schema defined in your model. It helps you understand what went wrong during data validation."
   ]
  },
  {
   "cell_type": "code",
   "execution_count": 70,
   "metadata": {},
   "outputs": [
    {
     "name": "stdout",
     "output_type": "stream",
     "text": [
      "Valid Person: name='Alice' age=30\n"
     ]
    }
   ],
   "source": [
    "# Let's create a simple Pydantic model to see how it works.\n",
    "from pydantic import BaseModel, ValidationError\n",
    "\n",
    "# Define a simple model with two fields: name and age\n",
    "class Person(BaseModel):\n",
    "    name: str  # Expected to be a string\n",
    "    age: int   # Expected to be an integer\n",
    "\n",
    "# Valid instance: This should work fine because the data matches the expected types.\n",
    "person = Person(name=\"Alice\", age=30)\n",
    "print(\"Valid Person:\", person)"
   ]
  },
  {
   "cell_type": "markdown",
   "metadata": {},
   "source": [
    "- **Valid Person Output:**  \n",
    "  The valid instance `Person(name=\"Alice\", age=30)` works correctly because the data matches the model's expectations. "
   ]
  },
  {
   "cell_type": "code",
   "execution_count": 71,
   "metadata": {},
   "outputs": [
    {
     "name": "stdout",
     "output_type": "stream",
     "text": [
      "Validation Error: 2 validation errors for Person\n",
      "name\n",
      "  Field required [type=missing, input_value={'name2': 1234, 'age2': '30'}, input_type=dict]\n",
      "    For further information visit https://errors.pydantic.dev/2.10/v/missing\n",
      "age\n",
      "  Field required [type=missing, input_value={'name2': 1234, 'age2': '30'}, input_type=dict]\n",
      "    For further information visit https://errors.pydantic.dev/2.10/v/missing\n"
     ]
    }
   ],
   "source": [
    "# Invalid instance: This will raise a validation error because the field names are incorrect.\n",
    "try:\n",
    "    # Here, 'name2' and 'age2' are used instead of the correct field names 'name' and 'age'.\n",
    "    invalid_person = Person(name2=1234, age2=\"30\")\n",
    "except ValidationError as e:\n",
    "    print(\"Validation Error:\", e)"
   ]
  },
  {
   "cell_type": "markdown",
   "metadata": {},
   "source": [
    "\n",
    "- **Validation Error Output:**  \n",
    "When we try to create an instance using incorrect field names (`name2` and `age2`), Pydantic cannot find the required fields (`name` and `age`). This leads to a `ValidationError` indicating that both required fields are missing.  \n"
   ]
  },
  {
   "cell_type": "markdown",
   "metadata": {},
   "source": [
    "-- Pydantic not only checks for correct types but also for the presence of all required fields as defined in the model. Incorrect field names or missing fields will result in an error, ensuring that the data conforms exactly to the specified schema."
   ]
  },
  {
   "cell_type": "code",
   "execution_count": 72,
   "metadata": {},
   "outputs": [
    {
     "name": "stdout",
     "output_type": "stream",
     "text": [
      "Value of age: 30\n",
      "Type of age: <class 'int'>\n"
     ]
    }
   ],
   "source": [
    "# Let's create a Person instance using a string for 'age'\n",
    "person = Person(name=\"Alice\", age=\"30\")\n",
    "\n",
    "print(\"Value of age:\", person.age)\n",
    "print(\"Type of age:\", type(person.age))\n"
   ]
  },
  {
   "cell_type": "markdown",
   "metadata": {},
   "source": [
    "- Although we provided the age as the string `\"30\"`, Pydantic automatically converts it to the integer `30` based on the type definition in our Person model.\n",
    "- This example demonstrates that our model enforces data consistency by converting types as needed.\n",
    "  \n",
    "Now that we have seen how a string input is automatically converted to an integer, we will move on to exploring further automatic type conversion features in Section 2.\n"
   ]
  },
  {
   "cell_type": "markdown",
   "metadata": {},
   "source": [
    "---"
   ]
  },
  {
   "cell_type": "markdown",
   "metadata": {},
   "source": [
    "#### 2. Demonstrating Automatic Type Conversion\n",
    "\n",
    "In this section, we'll explore how Pydantic automatically converts input data to match the expected types. Although our previous example showed converting a string to an integer, Pydantic supports several other conversions as well. Let's take a look at these behaviors.\n"
   ]
  },
  {
   "cell_type": "code",
   "execution_count": 76,
   "metadata": {},
   "outputs": [
    {
     "name": "stdout",
     "output_type": "stream",
     "text": [
      "Measurement: value=42.0\n",
      "Type of 'value': <class 'float'>\n"
     ]
    }
   ],
   "source": [
    "# Example: Converting an integer to a float\n",
    "class Measurement(BaseModel):\n",
    "    value: float  # 'value' is expected to be a float\n",
    "\n",
    "# Passing an integer for 'value'; Pydantic converts it to a float.\n",
    "measurement = Measurement(value=42)\n",
    "print(\"Measurement:\", measurement)\n",
    "print(\"Type of 'value':\", type(measurement.value))\n"
   ]
  },
  {
   "cell_type": "markdown",
   "metadata": {},
   "source": [
    "- When a field expects a float, providing an integer (like `42`) results in an automatic conversion to `42.0`.\n",
    "- This conversion is particularly useful in contexts where calculations require a floating-point representation."
   ]
  },
  {
   "cell_type": "code",
   "execution_count": 78,
   "metadata": {},
   "outputs": [
    {
     "name": "stdout",
     "output_type": "stream",
     "text": [
      "Flag conversion flag1: active=True\n",
      "Flag conversion flag2: active=False\n"
     ]
    }
   ],
   "source": [
    "# Example: Converting a string to a boolean\n",
    "class Flag(BaseModel):\n",
    "    active: bool  # 'active' is expected to be a boolean\n",
    "\n",
    "# Pydantic converts common string representations of booleans.\n",
    "flag1 = Flag(active=\"true\")\n",
    "flag2 = Flag(active=\"False\")\n",
    "print(\"Flag conversion flag1:\", flag1)\n",
    "print(\"Flag conversion flag2:\", flag2)"
   ]
  },
  {
   "cell_type": "markdown",
   "metadata": {},
   "source": [
    "- Pydantic recognizes strings like `\"true\"` and `\"False\"` and converts them into their corresponding boolean values.\n",
    "- This is especially useful when processing data from sources such as user inputs or external APIs where booleans might be represented as strings.\n"
   ]
  },
  {
   "cell_type": "code",
   "execution_count": 79,
   "metadata": {},
   "outputs": [
    {
     "name": "stdout",
     "output_type": "stream",
     "text": [
      "Event: timestamp=datetime.datetime(2023, 2, 22, 12, 34, 56)\n",
      "Type of 'timestamp': <class 'datetime.datetime'>\n"
     ]
    }
   ],
   "source": [
    "# Example: Parsing a date/time string into a datetime object\n",
    "from datetime import datetime\n",
    "\n",
    "class Event(BaseModel):\n",
    "    timestamp: datetime  # 'timestamp' is expected to be a datetime object\n",
    "\n",
    "# Provide an ISO 8601 formatted date/time string.\n",
    "event = Event(timestamp=\"2023-02-22T12:34:56\")\n",
    "print(\"Event:\", event)\n",
    "print(\"Type of 'timestamp':\", type(event.timestamp))\n"
   ]
  },
  {
   "cell_type": "markdown",
   "metadata": {},
   "source": [
    "- When a field expects a `datetime` object, Pydantic can automatically parse a well-formatted date/time string (ISO 8601) into a Python `datetime` instance.\n",
    "- This conversion is essential for applications that handle time-based data, such as event logging, scheduling, or time series analysis.\n",
    "\n",
    "**Overall, these examples illustrate how Pydantic's built-in type conversion capabilities help maintain data consistency and reduce the need for manual data cleaning.**\n"
   ]
  },
  {
   "cell_type": "markdown",
   "metadata": {},
   "source": [
    "---"
   ]
  },
  {
   "cell_type": "markdown",
   "metadata": {},
   "source": [
    "#### 3. Informative Error Messages\n",
    "\n",
    "One of Pydantic's powerful features is its ability to provide clear and detailed error messages when data doesn't match the expected schema.\n",
    "\n",
    "**Why It Matters:**\n",
    "- **Clarity:** Detailed error messages help pinpoint which field has an issue and why.\n",
    "- **Debugging:** They make it easier to diagnose and fix problems quickly.\n",
    "- **User Feedback:** In user-facing applications, clear errors help guide users to provide correct data.\n"
   ]
  },
  {
   "cell_type": "code",
   "execution_count": 80,
   "metadata": {},
   "outputs": [
    {
     "name": "stdout",
     "output_type": "stream",
     "text": [
      "Validation Error:\n",
      "1 validation error for Person\n",
      "age\n",
      "  Input should be a valid integer, unable to parse string as an integer [type=int_parsing, input_value='not_a_number', input_type=str]\n",
      "    For further information visit https://errors.pydantic.dev/2.10/v/int_parsing\n"
     ]
    }
   ],
   "source": [
    "# Let's see an example of an informative error message.\n",
    "# We'll deliberately pass an invalid value to trigger a validation error.\n",
    "\n",
    "try:\n",
    "    # Here, 'age' is expected to be an integer, but we pass a non-convertible string.\n",
    "    invalid_person = Person(name=\"Charlie\", age=\"not_a_number\")\n",
    "except ValidationError as e:\n",
    "    print(\"Validation Error:\")\n",
    "    print(e)\n"
   ]
  },
  {
   "cell_type": "markdown",
   "metadata": {},
   "source": [
    "- The error output clearly states that the `age` field is problematic.\n",
    "- It shows the expected type, the provided value, and even a reference link for more details.\n",
    "- This level of detail assists developers in quickly identifying and resolving data issues.\n"
   ]
  },
  {
   "cell_type": "markdown",
   "metadata": {},
   "source": [
    "---"
   ]
  },
  {
   "cell_type": "markdown",
   "metadata": {},
   "source": [
    "#### 4. Improved Code Readability\n",
    "\n",
    "Pydantic not only validates data but also improves the readability of your code by leveraging Python's type hints and clear model definitions.\n",
    "\n",
    "**Benefits:**\n",
    "- **Self-Documenting Code:**  \n",
    "  Type annotations clearly show the expected data types.\n",
    "- **Clear Structure:**  \n",
    "  Models define expected fields, simplifying onboarding and reducing errors.\n",
    "- **Maintainability:**  \n",
    "  Centralized models localize changes, making updates easier.\n"
   ]
  },
  {
   "cell_type": "code",
   "execution_count": 84,
   "metadata": {},
   "outputs": [
    {
     "name": "stdout",
     "output_type": "stream",
     "text": [
      "User: username='johndoe' email='john@example.com' age=25\n"
     ]
    }
   ],
   "source": [
    "# Example of a clear and concise Pydantic model\n",
    "class User(BaseModel):\n",
    "    username: str\n",
    "    email: str\n",
    "    age: int\n",
    "\n",
    "# Creating a valid user instance\n",
    "user = User(username=\"johndoe\", email=\"john@example.com\", age=25)\n",
    "print(\"User:\", user)\n"
   ]
  },
  {
   "cell_type": "markdown",
   "metadata": {},
   "source": [
    "- **Self-Documenting:**  \n",
    "  Type hints make it obvious what data each field should hold.\n",
    "- **Clear Structure:**  \n",
    "  Models centralize the expected data, easing onboarding and error prevention.\n",
    "- **Maintainability:**  \n",
    "  Changes are localized to the model definition, enhancing long-term code upkeep.\n"
   ]
  },
  {
   "cell_type": "markdown",
   "metadata": {},
   "source": [
    "---"
   ]
  },
  {
   "cell_type": "markdown",
   "metadata": {},
   "source": [
    "### 3. Custom Validation and Advanced Model Configuration\n",
    "\n",
    "While Pydantic's automatic validation is powerful, there are times when you need custom logic to enforce your data's correctness. In this section, we will:\n",
    "- Learn how to add custom validators to your models.\n",
    "- See how to perform cross-field validation.\n",
    "- Explore how to handle complex data structures with nested models."
   ]
  },
  {
   "cell_type": "markdown",
   "metadata": {},
   "source": [
    "#### Understanding Custom Validators (Pydantic V2 Style)\n",
    "\n",
    "Custom validators let you enforce rules beyond basic type checking. They allow you to implement additional logic—like ensuring a field's value meets specific criteria—during model initialization.\n",
    "\n",
    "- **Decorator Usage:**  \n",
    "  Use `@field_validator('field_name')` to attach a custom validation method to a specific field.\n",
    "\n",
    "- **Execution Timing:**  \n",
    "  Validators run during model initialization. They check the field's value and, if it doesn't meet the criteria, raise an error.\n",
    "\n",
    "- **Error Handling:**  \n",
    "  If the validator raises an error (e.g., via `ValueError`), Pydantic wraps this into a `ValidationError` that explains what went wrong.\n",
    "\n",
    "In the example below, the `name_must_be_alpha` validator ensures that the `name` field contains only alphabetic characters. If the value contains non-alphabetic characters, a `ValueError` is raised, preventing the model instance from being created with invalid data.\n"
   ]
  },
  {
   "cell_type": "code",
   "execution_count": 92,
   "metadata": {},
   "outputs": [],
   "source": [
    "from pydantic import field_validator\n",
    "\n",
    "class Person(BaseModel):\n",
    "    name: str\n",
    "    age: int\n",
    "\n",
    "    # Custom validator: ensure the name contains only alphabetic characters.\n",
    "    @field_validator('name')\n",
    "    def name_must_be_alpha(cls, value):\n",
    "        if not value.isalpha():\n",
    "            raise ValueError(\"Name must contain only alphabetic characters.\")\n",
    "        return value\n"
   ]
  },
  {
   "cell_type": "markdown",
   "metadata": {},
   "source": [
    "- The `@field_validator('name')` decorator attaches the `name_must_be_alpha` method to the `name` field.\n",
    "- During model initialization, this validator checks if the `name` value contains only alphabetic characters.\n",
    "- If not, a `ValueError` is raised, which is then wrapped in a `ValidationError` by Pydantic.\n"
   ]
  },
  {
   "cell_type": "code",
   "execution_count": 103,
   "metadata": {},
   "outputs": [
    {
     "name": "stdout",
     "output_type": "stream",
     "text": [
      "Valid Person: name='Vincent' age=25\n"
     ]
    }
   ],
   "source": [
    "# Example 1: Valid instance\n",
    "try:\n",
    "    person_valid = Person(name=\"Vincent\", age=25)\n",
    "    print(\"Valid Person:\", person_valid)\n",
    "except ValidationError as e:\n",
    "    print(\"Validation Error:\", e)\n"
   ]
  },
  {
   "cell_type": "markdown",
   "metadata": {},
   "source": [
    "In this example, \"Vincent\" is a valid name (only alphabetic), so the instance is created without issues."
   ]
  },
  {
   "cell_type": "code",
   "execution_count": 104,
   "metadata": {},
   "outputs": [
    {
     "name": "stdout",
     "output_type": "stream",
     "text": [
      "Invalid: 1 validation error for Person\n",
      "name\n",
      "  Value error, Name must contain only alphabetic characters. [type=value_error, input_value='Tangol16', input_type=str]\n",
      "    For further information visit https://errors.pydantic.dev/2.10/v/value_error\n"
     ]
    }
   ],
   "source": [
    "# Example 2: Invalid instance (name contains non-alphabetic characters)\n",
    "try:\n",
    "    person_invalid = Person(name=\"Tangol16\", age=25)\n",
    "except ValidationError as e:\n",
    "    print(\"Invalid:\", e)\n"
   ]
  },
  {
   "cell_type": "markdown",
   "metadata": {},
   "source": [
    "Here, \"Tangol16\" contains numbers, so the custom validator fails. This results in a ValidationError with the message \"Name must contain only alphabetic characters.\""
   ]
  },
  {
   "cell_type": "markdown",
   "metadata": {},
   "source": [
    "- **Custom Validators in Action:**  \n",
    "  The examples show how custom validators enforce specific rules. A valid input (\"Vincent\") passes the check, while an invalid input (\"Tangol16\") triggers an error.\n",
    "\n",
    "- **Immediate Feedback:**  \n",
    "  This approach provides immediate feedback during model initialization, ensuring that only correctly formatted data is accepted."
   ]
  },
  {
   "cell_type": "markdown",
   "metadata": {},
   "source": []
  }
 ],
 "metadata": {
  "kernelspec": {
   "display_name": ".venv",
   "language": "python",
   "name": "python3"
  },
  "language_info": {
   "codemirror_mode": {
    "name": "ipython",
    "version": 3
   },
   "file_extension": ".py",
   "mimetype": "text/x-python",
   "name": "python",
   "nbconvert_exporter": "python",
   "pygments_lexer": "ipython3",
   "version": "3.12.3"
  }
 },
 "nbformat": 4,
 "nbformat_minor": 2
}
